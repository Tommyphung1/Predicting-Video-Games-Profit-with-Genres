{
 "cells": [
  {
   "cell_type": "markdown",
   "metadata": {},
   "source": [
    "# Project 5\n",
    "**Author:** Tommy Phung <br>\n",
    "**Target:** Video Game Developers"
   ]
  },
  {
   "cell_type": "code",
   "execution_count": 1,
   "metadata": {},
   "outputs": [],
   "source": [
    "import pandas as pd\n",
    "import matplotlib.pyplot as plt\n",
    "import numpy as np\n",
    "\n",
    "\n",
    "### Modeling Libraries used \n",
    "from sklearn.tree import DecisionTreeClassifier\n",
    "from sklearn.ensemble import RandomForestClassifier\n",
    "from sklearn.model_selection import train_test_split, GridSearchCV\n",
    "\n",
    "### Custom made functions for cleaning data\n",
    "from functions import data_cleaning as dc "
   ]
  },
  {
   "cell_type": "markdown",
   "metadata": {},
   "source": [
    "## Business Understanding \n",
    "Video games have been a form of entertainment for all ages around the world. There have been an increase in game production with all the access to tools online as well as the demand for these games. Every year, steam have games published on their platform and have only been increasing in the past decade. On average, steam alone on average gets 30 games a day. With so many games getting published, there is a risk that the game wont be made profitable. \n",
    "Depending on the company size, the number of sales chanages to be seen as profitable. For example, Triple A games is expected to have a sale of 10 million units to be called profitable. Whereas Indie games, which are smaller game compnaies, would expect 100,000 units to be successful. There is also a bigger budget range when comparing Triple A compnaies and Indie companies. \n",
    "In order to make a game that many would be interested in buying, certain genres are more desirable than others for the average player. By modeling the games genre, we canisolate the genres to the best genres to have when making a game that would reach the benchmark mentioned above. \n",
    "\n",
    "This information would be useful to have for Indie Developer that would sell their game on Steam but can apply to other platforms. If a new developer is attempting to create a game, they should use the information to determine the best type of game that the audience would want to buy. Triple A companies using the model should look at the worst genres and avoid those since they are already estiablish and could improve their current library of games instead. "
   ]
  },
  {
   "cell_type": "markdown",
   "metadata": {},
   "source": [
    "## Data Understanding \n",
    "The dataset that I used came from a couple of sources from Kaggle. \n",
    "The datasets consist of video games sales, genres and other features such as Developer and ratings. \n",
    "\n",
    "The first dataset with the genres comes from https://www.backloggd.com/ which is a community based listing website. Users can create and share lists of games they have played or want to play and rate them. There are 60,000 games listed and 24 differnt genres.\n",
    "The second dataset contais the sales of games from the US, EU and Global Sales. There are 16,600 games listed with the most important column used was the Global Sale since the column combined the other sales althoghter. "
   ]
  },
  {
   "cell_type": "markdown",
   "metadata": {},
   "source": [
    "## Import Datasets "
   ]
  },
  {
   "cell_type": "code",
   "execution_count": 2,
   "metadata": {},
   "outputs": [],
   "source": [
    "df = pd.read_csv('datasets/backloggd_games.csv', index_col= 0)    ### Main dataset with the genres.\n",
    "ranked_df = pd.read_csv('datasets/vgsales.csv')    ### Dataset to grab global sales from. \n",
    "comb_df = df[df.Title.isin(ranked_df.Name.unique())]\n",
    "comb_df.reset_index(drop= True, inplace = True)"
   ]
  },
  {
   "cell_type": "markdown",
   "metadata": {},
   "source": [
    "## Data Preperations\n",
    "\n",
    "Before analysising the dataset, it needs to be cleaned for any missing data or any data that isn't needed for the project. <br>\n",
    "Unnecessary columns are removed from the dataset that would not be used. **Wishlist, Playing and Backlog** are the number of people that want the game, is currently playing or planning on playing the selected game. This is subjective and doesn't indicate whether the game is good or bad. The column Plays, which are people that have played the game can give insight on actual players for the game. <br>\n",
    "\n",
    "**TBD or To Be Determined** are games with not release date yet meaning that the game is too new to be analysis yet. \n",
    "Any duplicates are also removed. A thing to note is that games get rereleases so duplicates in titles are handled differently. \n",
    "\n",
    "The number of players in the columns **Plays and Reviews** are changed to integers for comparison. The letter **K**, stands for the thousands and changed accordingly. \n",
    "\n",
    "Lastly, if the games made over a million or 1 in sales, the corresding game would recieve a 1 for being true or 0 if they were not able to achieve the benchmark. "
   ]
  },
  {
   "cell_type": "code",
   "execution_count": 3,
   "metadata": {
    "tags": []
   },
   "outputs": [],
   "source": [
    "comb_df = comb_df[['Title', 'Genres', 'Rating']] \n",
    "comb_df.drop_duplicates(subset= 'Title', inplace= True)    ### Drop any duplicates\n",
    "comb_df.Genres = df.Genres.apply(dc.convert_to_list)   ### Convert to list like"
   ]
  },
  {
   "cell_type": "code",
   "execution_count": 4,
   "metadata": {},
   "outputs": [],
   "source": [
    "matched_df = ranked_df[ranked_df.Name.isin(comb_df.Title.unique())][['Name', 'Global_Sales', 'Platform']]    ### Only Game title that are in both datasets.\n",
    "final_df = comb_df.sort_values('Title')\n",
    "final_df['Global_Sales'] = matched_df.groupby('Name').sum().sort_values('Name').Global_Sales.values\n",
    "final_df.reset_index(drop= True, inplace= True)"
   ]
  },
  {
   "cell_type": "code",
   "execution_count": 5,
   "metadata": {},
   "outputs": [],
   "source": [
    "### Add a new column with all 0. \n",
    "final_df['Over_1'] = 0\n",
    "final_df['Over_.1'] = 0\n",
    "final_df.loc[final_df['Title'].isin(ranked_df[ranked_df.Global_Sales >= 1].Name.values), 'Over_1'] = 1\n",
    "final_df.loc[final_df['Title'].isin(ranked_df[ranked_df.Global_Sales >= .1].Name.values), 'Over_.1'] = 1"
   ]
  },
  {
   "cell_type": "code",
   "execution_count": 6,
   "metadata": {},
   "outputs": [
    {
     "data": {
      "text/html": [
       "<div>\n",
       "<style scoped>\n",
       "    .dataframe tbody tr th:only-of-type {\n",
       "        vertical-align: middle;\n",
       "    }\n",
       "\n",
       "    .dataframe tbody tr th {\n",
       "        vertical-align: top;\n",
       "    }\n",
       "\n",
       "    .dataframe thead th {\n",
       "        text-align: right;\n",
       "    }\n",
       "</style>\n",
       "<table border=\"1\" class=\"dataframe\">\n",
       "  <thead>\n",
       "    <tr style=\"text-align: right;\">\n",
       "      <th></th>\n",
       "      <th>Title</th>\n",
       "      <th>Genres</th>\n",
       "      <th>Rating</th>\n",
       "      <th>Global_Sales</th>\n",
       "      <th>Over_1</th>\n",
       "      <th>Over_.1</th>\n",
       "    </tr>\n",
       "  </thead>\n",
       "  <tbody>\n",
       "    <tr>\n",
       "      <th>0</th>\n",
       "      <td>.hack//Link</td>\n",
       "      <td>[Simulator, Sport]</td>\n",
       "      <td>2.7</td>\n",
       "      <td>0.14</td>\n",
       "      <td>0</td>\n",
       "      <td>1</td>\n",
       "    </tr>\n",
       "    <tr>\n",
       "      <th>1</th>\n",
       "      <td>007 Racing</td>\n",
       "      <td>[RPG]</td>\n",
       "      <td>2.2</td>\n",
       "      <td>0.53</td>\n",
       "      <td>0</td>\n",
       "      <td>1</td>\n",
       "    </tr>\n",
       "    <tr>\n",
       "      <th>2</th>\n",
       "      <td>1 vs. 100</td>\n",
       "      <td>[RPG]</td>\n",
       "      <td>3.4</td>\n",
       "      <td>0.09</td>\n",
       "      <td>0</td>\n",
       "      <td>0</td>\n",
       "    </tr>\n",
       "    <tr>\n",
       "      <th>3</th>\n",
       "      <td>10 Minute Solution</td>\n",
       "      <td>[Adventure, Indie]</td>\n",
       "      <td>NaN</td>\n",
       "      <td>0.08</td>\n",
       "      <td>0</td>\n",
       "      <td>0</td>\n",
       "    </tr>\n",
       "    <tr>\n",
       "      <th>4</th>\n",
       "      <td>100 Classic Games</td>\n",
       "      <td>[Adventure, Platform]</td>\n",
       "      <td>NaN</td>\n",
       "      <td>0.04</td>\n",
       "      <td>0</td>\n",
       "      <td>0</td>\n",
       "    </tr>\n",
       "    <tr>\n",
       "      <th>...</th>\n",
       "      <td>...</td>\n",
       "      <td>...</td>\n",
       "      <td>...</td>\n",
       "      <td>...</td>\n",
       "      <td>...</td>\n",
       "      <td>...</td>\n",
       "    </tr>\n",
       "    <tr>\n",
       "      <th>4461</th>\n",
       "      <td>Zumba Fitness Rush</td>\n",
       "      <td>[Adventure, RPG]</td>\n",
       "      <td>NaN</td>\n",
       "      <td>0.19</td>\n",
       "      <td>0</td>\n",
       "      <td>1</td>\n",
       "    </tr>\n",
       "    <tr>\n",
       "      <th>4462</th>\n",
       "      <td>de Blob</td>\n",
       "      <td>[Card &amp; Board Game, Puzzle]</td>\n",
       "      <td>3.0</td>\n",
       "      <td>0.97</td>\n",
       "      <td>0</td>\n",
       "      <td>1</td>\n",
       "    </tr>\n",
       "    <tr>\n",
       "      <th>4463</th>\n",
       "      <td>de Blob 2</td>\n",
       "      <td>[Platform, Shooter]</td>\n",
       "      <td>3.2</td>\n",
       "      <td>0.66</td>\n",
       "      <td>0</td>\n",
       "      <td>1</td>\n",
       "    </tr>\n",
       "    <tr>\n",
       "      <th>4464</th>\n",
       "      <td>htoL#NiQ: The Firefly Diary</td>\n",
       "      <td>[Shooter]</td>\n",
       "      <td>3.0</td>\n",
       "      <td>0.01</td>\n",
       "      <td>0</td>\n",
       "      <td>0</td>\n",
       "    </tr>\n",
       "    <tr>\n",
       "      <th>4465</th>\n",
       "      <td>uDraw Studio</td>\n",
       "      <td>[Arcade, Fighting]</td>\n",
       "      <td>1.6</td>\n",
       "      <td>2.46</td>\n",
       "      <td>1</td>\n",
       "      <td>1</td>\n",
       "    </tr>\n",
       "  </tbody>\n",
       "</table>\n",
       "<p>4466 rows × 6 columns</p>\n",
       "</div>"
      ],
      "text/plain": [
       "                            Title                       Genres  Rating  \\\n",
       "0                     .hack//Link           [Simulator, Sport]     2.7   \n",
       "1                      007 Racing                        [RPG]     2.2   \n",
       "2                       1 vs. 100                        [RPG]     3.4   \n",
       "3              10 Minute Solution           [Adventure, Indie]     NaN   \n",
       "4               100 Classic Games        [Adventure, Platform]     NaN   \n",
       "...                           ...                          ...     ...   \n",
       "4461           Zumba Fitness Rush             [Adventure, RPG]     NaN   \n",
       "4462                      de Blob  [Card & Board Game, Puzzle]     3.0   \n",
       "4463                    de Blob 2          [Platform, Shooter]     3.2   \n",
       "4464  htoL#NiQ: The Firefly Diary                    [Shooter]     3.0   \n",
       "4465                 uDraw Studio           [Arcade, Fighting]     1.6   \n",
       "\n",
       "      Global_Sales  Over_1  Over_.1  \n",
       "0             0.14       0        1  \n",
       "1             0.53       0        1  \n",
       "2             0.09       0        0  \n",
       "3             0.08       0        0  \n",
       "4             0.04       0        0  \n",
       "...            ...     ...      ...  \n",
       "4461          0.19       0        1  \n",
       "4462          0.97       0        1  \n",
       "4463          0.66       0        1  \n",
       "4464          0.01       0        0  \n",
       "4465          2.46       1        1  \n",
       "\n",
       "[4466 rows x 6 columns]"
      ]
     },
     "execution_count": 6,
     "metadata": {},
     "output_type": "execute_result"
    }
   ],
   "source": [
    "final_df"
   ]
  },
  {
   "cell_type": "markdown",
   "metadata": {},
   "source": [
    "## Data Distribution\n",
    "\n",
    "While looking at the dataset, there is a couple of things to note in the distribution. For the number of ratings, it follows a normal distribution not including that the number of games that doesn't have a rating. \n",
    "\n",
    "**16.6 %** of the games were a developers **single game**. This could be misleading as some **developers changes names** or get **absorbed by companies** that would change what the game developers havppens to be. We would assume that this doesn't make a majority of games for now unless the number of games makes an impact. <br>\n",
    "**15.1 %** of the games **doesn't have a game developer listed**. There is a number of reason other than missing developer name. **Newer unknown games** would have individual name rather than actual company name. This could be good to note the potential of these games since **not all good games are known or created by big companies.** \n"
   ]
  },
  {
   "cell_type": "code",
   "execution_count": 7,
   "metadata": {},
   "outputs": [
    {
     "data": {
      "text/plain": [
       "0    0.742051\n",
       "1    0.257949\n",
       "Name: Over_1, dtype: float64"
      ]
     },
     "execution_count": 7,
     "metadata": {},
     "output_type": "execute_result"
    }
   ],
   "source": [
    "final_df.Over_1.value_counts(normalize= True)"
   ]
  },
  {
   "cell_type": "code",
   "execution_count": 8,
   "metadata": {},
   "outputs": [
    {
     "data": {
      "text/plain": [
       "1    0.790864\n",
       "0    0.209136\n",
       "Name: Over_.1, dtype: float64"
      ]
     },
     "execution_count": 8,
     "metadata": {},
     "output_type": "execute_result"
    }
   ],
   "source": [
    "final_df['Over_.1'].value_counts(normalize= True)"
   ]
  },
  {
   "cell_type": "code",
   "execution_count": 9,
   "metadata": {},
   "outputs": [
    {
     "data": {
      "image/png": "[encoded data removed]",
      "text/plain": [
       "<Figure size 432x288 with 1 Axes>"
      ]
     },
     "metadata": {
      "needs_background": "light"
     },
     "output_type": "display_data"
    }
   ],
   "source": [
    "### Rating Distrbution \n",
    "final_df[final_df.Rating >= 0].Rating.plot(kind = 'hist', title = 'Rating Distributions', xlabel = 'Rating', sharex = False);\n",
    "plt.vlines(df.Rating.mean(), 0, 1300, colors= 'red', label= 'Mean Rating = {}'.format(round(final_df.Rating.mean(), 2)));\n",
    "plt.legend();"
   ]
  },
  {
   "cell_type": "markdown",
   "metadata": {},
   "source": [
    "Only **4%** of the games were able to make a sale of over 1 million. <br>\n",
    "While the **96%** was unable to each that benchmark. <br>\n",
    "The benchmark differs from the size of the company. \n",
    "Accouring to www.engadget.com this matches up with their report of having 4% of games would make a profit. \n",
    "\n",
    "When cosidering the most indie games consider sales over **100,000** sales to be successful, there are more games that reached that benchmark. <br>\n",
    "**90%** of games were not able to make the cut while **10%** was ablt to, doubling the number of games. This make sense since most games have to start as an indie developer before being a successful Triple A title. "
   ]
  },
  {
   "cell_type": "code",
   "execution_count": 10,
   "metadata": {},
   "outputs": [],
   "source": [
    "genre_df = pd.concat([final_df.Title, pd.get_dummies(final_df['Genres'].explode(),drop_first= True).groupby(level=0).sum(), final_df[['Over_1']]], axis= 1)"
   ]
  },
  {
   "cell_type": "markdown",
   "metadata": {},
   "source": [
    "Normal distrbution of games would mean that all types of games were included leaving for a balanced dataset. <br>\n",
    "If all or most of the **games perform well**, that would **indirectly lead** to **better sales** in most cases. \n",
    "Instead, since this website was built by the fanbase, there should be a balance of popular games and more obsure games."
   ]
  },
  {
   "cell_type": "markdown",
   "metadata": {},
   "source": [
    "## Baseline Model\n",
    "A basic Decision Tree was made for the baseline model to compare the other model in mind. \n",
    "The features used were the different genres that each game labeled as and the targeted feature was the whether the game was able to reach 1 million in sales, Over_1 column."
   ]
  },
  {
   "cell_type": "code",
   "execution_count": 11,
   "metadata": {},
   "outputs": [
    {
     "data": {
      "text/plain": [
       "0.7251566696508505"
      ]
     },
     "execution_count": 11,
     "metadata": {},
     "output_type": "execute_result"
    }
   ],
   "source": [
    "X = genre_df[genre_df.columns[1:-1]]\n",
    "y =  genre_df.Over_1\n",
    "X_train, X_test, y_train, y_test = train_test_split(X, y, random_state= 10)\n",
    "                                                            \n",
    "baseline = DecisionTreeClassifier(random_state=10)  \n",
    "\n",
    "baseline.fit(X_train, y_train) \n",
    "baseline.score(X_test, y_test)"
   ]
  },
  {
   "cell_type": "markdown",
   "metadata": {},
   "source": [
    "### Feature Importance and Genre Distribution\n",
    "The model provides a feature importance for each feature giving a percentage to deteermine which was the most important when deciding the relavence of the genres. \n",
    "However, it is important to see the distribution of the genres alone to see if the data would favor one genre of another. Assuming that the more games with a given genre would be picked out more often than a rare genre. "
   ]
  },
  {
   "cell_type": "code",
   "execution_count": 12,
   "metadata": {},
   "outputs": [],
   "source": [
    "feature_list = []\n",
    "for name, value in zip(baseline.feature_names_in_, baseline.feature_importances_):\n",
    "    feature_list.append((name, round(value*100, 2)))\n",
    "feature_list = sorted(feature_list, key= lambda x: x[1])\n",
    "\n",
    "all_genres = final_df.Genres.values\n",
    "split_genres = {}\n",
    "for group in all_genres:\n",
    "    #new_list = group.strip('\\'[ ]').split('\\', \\'')\n",
    "    \n",
    "    for element in group:\n",
    "        if element == '':\n",
    "            break\n",
    "        key = element\n",
    "        if split_genres.get(key) == None:\n",
    "            split_genres[key] = 1 \n",
    "        else:\n",
    "            split_genres[key] += 1\n",
    "sort_genres = dict(sorted(split_genres.items(), key = lambda x: x[1], reverse= False))"
   ]
  },
  {
   "cell_type": "code",
   "execution_count": 13,
   "metadata": {},
   "outputs": [
    {
     "data": {
      "image/png": "[encoded data removed]",
      "text/plain": [
       "<Figure size 1800x576 with 2 Axes>"
      ]
     },
     "metadata": {
      "needs_background": "light"
     },
     "output_type": "display_data"
    }
   ],
   "source": [
    "fig, ax = plt.subplots(ncols= 2,figsize = (25,8))\n",
    "x_feat = [x[0] for x in feature_list]\n",
    "y_feat = [x[1] for x in feature_list]\n",
    "ax[0].barh(x_feat, y_feat)\n",
    "ax[0].set_title('Feature Importance')\n",
    "xlabel = ['{}%'.format(x) for x in np.arange(0,20,2)]\n",
    "ax[0].set_xticks(np.arange(0,20,2));\n",
    "ax[0].set_xticklabels(xlabel);\n",
    "ax[0].set_ylabel('Genres');\n",
    "ax[0].set_xlabel('Percentage');\n",
    "\n",
    "ax[1].barh(list(sort_genres.keys()), list(sort_genres.values()));\n",
    "ax[1].set_title('Most Common Genres');\n",
    "ax[1].set_ylabel('Genres');\n",
    "ax[1].set_xlabel('Frequency');"
   ]
  },
  {
   "cell_type": "markdown",
   "metadata": {},
   "source": [
    "Its good to know that not all the genres corralate to the most common genre, meaning that some genres are more influncetial to have than others. This also means that some genre can be interpretted as saturated since even though they make up most of the games genres, they dont perform well in sells. \n",
    "Indie games are both a common genre and important based off the model. Uncommone genres like Pinball, Cards, and Trivia doesn't perform well and not in the market for good reason. "
   ]
  },
  {
   "cell_type": "code",
   "execution_count": 14,
   "metadata": {},
   "outputs": [
    {
     "data": {
      "text/plain": [
       "0.7314234556848702"
      ]
     },
     "execution_count": 14,
     "metadata": {},
     "output_type": "execute_result"
    }
   ],
   "source": [
    "random = RandomForestClassifier(random_state=10)  \n",
    "\n",
    "random.fit(X_train, y_train) \n",
    "random.score(X_test, y_test)"
   ]
  },
  {
   "cell_type": "code",
   "execution_count": 15,
   "metadata": {},
   "outputs": [],
   "source": [
    "random_list = []\n",
    "for name, value in zip(random.feature_names_in_, random.feature_importances_):\n",
    "    random_list.append((name, round(value*100, 2)))\n",
    "random_list = sorted(random_list, key= lambda x: x[1])\n"
   ]
  },
  {
   "cell_type": "code",
   "execution_count": 16,
   "metadata": {},
   "outputs": [
    {
     "data": {
      "image/png": "[encoded data removed]",
      "text/plain": [
       "<Figure size 1800x576 with 2 Axes>"
      ]
     },
     "metadata": {
      "needs_background": "light"
     },
     "output_type": "display_data"
    }
   ],
   "source": [
    "fig, ax = plt.subplots(ncols= 2,figsize = (25,8))\n",
    "\n",
    "x_feat = [x[0] for x in feature_list]\n",
    "y_feat = [x[1] for x in feature_list]\n",
    "ax[0].barh(x_feat, y_feat)\n",
    "ax[0].set_title('Feature Importance')\n",
    "xlabel = ['{}%'.format(x) for x in np.arange(0,20,2)]\n",
    "ax[0].set_xticks(np.arange(0,20,2));\n",
    "ax[0].set_xticklabels(xlabel);\n",
    "ax[0].set_ylabel('Genres');\n",
    "ax[0].set_xlabel('Percentage');\n",
    "\n",
    "x_feat_2 = [x[0] for x in random_list]\n",
    "y_feat_2 = [x[1] for x in random_list]\n",
    "ax[1].barh(x_feat_2, y_feat_2)\n",
    "ax[1].set_title('Feature Importance Random Version')\n",
    "xlabel = ['{}%'.format(x) for x in np.arange(0,20,2)]\n",
    "ax[1].set_xticks(np.arange(0,20,2));\n",
    "ax[1].set_xticklabels(xlabel);\n",
    "ax[1].set_ylabel('Genres');\n",
    "ax[1].set_xlabel('Percentage');\n"
   ]
  },
  {
   "cell_type": "code",
   "execution_count": 28,
   "metadata": {},
   "outputs": [
    {
     "data": {
      "text/html": [
       "<style>#sk-container-id-4 {color: black;background-color: white;}#sk-container-id-4 pre{padding: 0;}#sk-container-id-4 div.sk-toggleable {background-color: white;}#sk-container-id-4 label.sk-toggleable__label {cursor: pointer;display: block;width: 100%;margin-bottom: 0;padding: 0.3em;box-sizing: border-box;text-align: center;}#sk-container-id-4 label.sk-toggleable__label-arrow:before {content: \"▸\";float: left;margin-right: 0.25em;color: #696969;}#sk-container-id-4 label.sk-toggleable__label-arrow:hover:before {color: black;}#sk-container-id-4 div.sk-estimator:hover label.sk-toggleable__label-arrow:before {color: black;}#sk-container-id-4 div.sk-toggleable__content {max-height: 0;max-width: 0;overflow: hidden;text-align: left;background-color: #f0f8ff;}#sk-container-id-4 div.sk-toggleable__content pre {margin: 0.2em;color: black;border-radius: 0.25em;background-color: #f0f8ff;}#sk-container-id-4 input.sk-toggleable__control:checked~div.sk-toggleable__content {max-height: 200px;max-width: 100%;overflow: auto;}#sk-container-id-4 input.sk-toggleable__control:checked~label.sk-toggleable__label-arrow:before {content: \"▾\";}#sk-container-id-4 div.sk-estimator input.sk-toggleable__control:checked~label.sk-toggleable__label {background-color: #d4ebff;}#sk-container-id-4 div.sk-label input.sk-toggleable__control:checked~label.sk-toggleable__label {background-color: #d4ebff;}#sk-container-id-4 input.sk-hidden--visually {border: 0;clip: rect(1px 1px 1px 1px);clip: rect(1px, 1px, 1px, 1px);height: 1px;margin: -1px;overflow: hidden;padding: 0;position: absolute;width: 1px;}#sk-container-id-4 div.sk-estimator {font-family: monospace;background-color: #f0f8ff;border: 1px dotted black;border-radius: 0.25em;box-sizing: border-box;margin-bottom: 0.5em;}#sk-container-id-4 div.sk-estimator:hover {background-color: #d4ebff;}#sk-container-id-4 div.sk-parallel-item::after {content: \"\";width: 100%;border-bottom: 1px solid gray;flex-grow: 1;}#sk-container-id-4 div.sk-label:hover label.sk-toggleable__label {background-color: #d4ebff;}#sk-container-id-4 div.sk-serial::before {content: \"\";position: absolute;border-left: 1px solid gray;box-sizing: border-box;top: 0;bottom: 0;left: 50%;z-index: 0;}#sk-container-id-4 div.sk-serial {display: flex;flex-direction: column;align-items: center;background-color: white;padding-right: 0.2em;padding-left: 0.2em;position: relative;}#sk-container-id-4 div.sk-item {position: relative;z-index: 1;}#sk-container-id-4 div.sk-parallel {display: flex;align-items: stretch;justify-content: center;background-color: white;position: relative;}#sk-container-id-4 div.sk-item::before, #sk-container-id-4 div.sk-parallel-item::before {content: \"\";position: absolute;border-left: 1px solid gray;box-sizing: border-box;top: 0;bottom: 0;left: 50%;z-index: -1;}#sk-container-id-4 div.sk-parallel-item {display: flex;flex-direction: column;z-index: 1;position: relative;background-color: white;}#sk-container-id-4 div.sk-parallel-item:first-child::after {align-self: flex-end;width: 50%;}#sk-container-id-4 div.sk-parallel-item:last-child::after {align-self: flex-start;width: 50%;}#sk-container-id-4 div.sk-parallel-item:only-child::after {width: 0;}#sk-container-id-4 div.sk-dashed-wrapped {border: 1px dashed gray;margin: 0 0.4em 0.5em 0.4em;box-sizing: border-box;padding-bottom: 0.4em;background-color: white;}#sk-container-id-4 div.sk-label label {font-family: monospace;font-weight: bold;display: inline-block;line-height: 1.2em;}#sk-container-id-4 div.sk-label-container {text-align: center;}#sk-container-id-4 div.sk-container {/* jupyter's `normalize.less` sets `[hidden] { display: none; }` but bootstrap.min.css set `[hidden] { display: none !important; }` so we also need the `!important` here to be able to override the default hidden behavior on the sphinx rendered scikit-learn.org. See: https://github.com/scikit-learn/scikit-learn/issues/21755 */display: inline-block !important;position: relative;}#sk-container-id-4 div.sk-text-repr-fallback {display: none;}</style><div id=\"sk-container-id-4\" class=\"sk-top-container\"><div class=\"sk-text-repr-fallback\"><pre>GridSearchCV(cv=3, estimator=RandomForestClassifier(),\n",
       "             param_grid={&#x27;criterion&#x27;: [&#x27;entropy&#x27;],\n",
       "                         &#x27;max_depth&#x27;: [None, 10, 15, 20, 25],\n",
       "                         &#x27;max_features&#x27;: [None, &#x27;sqrt&#x27;, 10, 15, 20],\n",
       "                         &#x27;min_samples_leaf&#x27;: [0.1, 0.5, 1, 2, 3, 4, 5, 6],\n",
       "                         &#x27;min_samples_split&#x27;: [0.1, 0.5, 1, 2, 3, 4, 5, 6],\n",
       "                         &#x27;n_estimators&#x27;: [20, 50, 75, 100],\n",
       "                         &#x27;random_state&#x27;: [10]},\n",
       "             return_train_score=True, scoring=&#x27;accuracy&#x27;)</pre><b>In a Jupyter environment, please rerun this cell to show the HTML representation or trust the notebook. <br />On GitHub, the HTML representation is unable to render, please try loading this page with nbviewer.org.</b></div><div class=\"sk-container\" hidden><div class=\"sk-item sk-dashed-wrapped\"><div class=\"sk-label-container\"><div class=\"sk-label sk-toggleable\"><input class=\"sk-toggleable__control sk-hidden--visually\" id=\"sk-estimator-id-10\" type=\"checkbox\" ><label for=\"sk-estimator-id-10\" class=\"sk-toggleable__label sk-toggleable__label-arrow\">GridSearchCV</label><div class=\"sk-toggleable__content\"><pre>GridSearchCV(cv=3, estimator=RandomForestClassifier(),\n",
       "             param_grid={&#x27;criterion&#x27;: [&#x27;entropy&#x27;],\n",
       "                         &#x27;max_depth&#x27;: [None, 10, 15, 20, 25],\n",
       "                         &#x27;max_features&#x27;: [None, &#x27;sqrt&#x27;, 10, 15, 20],\n",
       "                         &#x27;min_samples_leaf&#x27;: [0.1, 0.5, 1, 2, 3, 4, 5, 6],\n",
       "                         &#x27;min_samples_split&#x27;: [0.1, 0.5, 1, 2, 3, 4, 5, 6],\n",
       "                         &#x27;n_estimators&#x27;: [20, 50, 75, 100],\n",
       "                         &#x27;random_state&#x27;: [10]},\n",
       "             return_train_score=True, scoring=&#x27;accuracy&#x27;)</pre></div></div></div><div class=\"sk-parallel\"><div class=\"sk-parallel-item\"><div class=\"sk-item\"><div class=\"sk-label-container\"><div class=\"sk-label sk-toggleable\"><input class=\"sk-toggleable__control sk-hidden--visually\" id=\"sk-estimator-id-11\" type=\"checkbox\" ><label for=\"sk-estimator-id-11\" class=\"sk-toggleable__label sk-toggleable__label-arrow\">estimator: RandomForestClassifier</label><div class=\"sk-toggleable__content\"><pre>RandomForestClassifier()</pre></div></div></div><div class=\"sk-serial\"><div class=\"sk-item\"><div class=\"sk-estimator sk-toggleable\"><input class=\"sk-toggleable__control sk-hidden--visually\" id=\"sk-estimator-id-12\" type=\"checkbox\" ><label for=\"sk-estimator-id-12\" class=\"sk-toggleable__label sk-toggleable__label-arrow\">RandomForestClassifier</label><div class=\"sk-toggleable__content\"><pre>RandomForestClassifier()</pre></div></div></div></div></div></div></div></div></div></div>"
      ],
      "text/plain": [
       "GridSearchCV(cv=3, estimator=RandomForestClassifier(),\n",
       "             param_grid={'criterion': ['entropy'],\n",
       "                         'max_depth': [None, 10, 15, 20, 25],\n",
       "                         'max_features': [None, 'sqrt', 10, 15, 20],\n",
       "                         'min_samples_leaf': [0.1, 0.5, 1, 2, 3, 4, 5, 6],\n",
       "                         'min_samples_split': [0.1, 0.5, 1, 2, 3, 4, 5, 6],\n",
       "                         'n_estimators': [20, 50, 75, 100],\n",
       "                         'random_state': [10]},\n",
       "             return_train_score=True, scoring='accuracy')"
      ]
     },
     "execution_count": 28,
     "metadata": {},
     "output_type": "execute_result"
    }
   ],
   "source": [
    "param_grid = {\n",
    "                'n_estimators' : [20, 50, 75, 100],\n",
    "                'criterion': ['entropy'],\n",
    "                'max_depth' : [None, 10, 15, 20, 25],\n",
    "                'min_samples_split' : [.1, .5, 1,2,3,4,5,6],\n",
    "                'min_samples_leaf' : [.1, .5, 1,2,3,4,5,6],\n",
    "                'max_features' : [None, 'sqrt', 10, 15, 20],\n",
    "                'random_state': [10]\n",
    "             }\n",
    "\n",
    "forest_clf_base = RandomForestClassifier()\n",
    "forest_grid_search = GridSearchCV(forest_clf_base, param_grid, return_train_score= True, cv= 3, scoring= 'accuracy')\n",
    "forest_grid_search.fit(X_train, y_train)"
   ]
  },
  {
   "cell_type": "code",
   "execution_count": null,
   "metadata": {},
   "outputs": [],
   "source": [
    "forest_grid_search.score(X_test, y_test)\n",
    "forest_grid_search.best_params_"
   ]
  },
  {
   "cell_type": "code",
   "execution_count": 25,
   "metadata": {},
   "outputs": [
    {
     "data": {
      "text/plain": [
       "0.7457475380483438"
      ]
     },
     "execution_count": 25,
     "metadata": {},
     "output_type": "execute_result"
    }
   ],
   "source": [
    "forest_grid_search.score(X_test, y_test)"
   ]
  },
  {
   "cell_type": "code",
   "execution_count": 27,
   "metadata": {},
   "outputs": [
    {
     "data": {
      "text/plain": [
       "{'criterion': 'entropy',\n",
       " 'max_depth': 10,\n",
       " 'max_features': 'sqrt',\n",
       " 'min_samples_leaf': 3,\n",
       " 'min_samples_split': 1,\n",
       " 'n_estimators': 50,\n",
       " 'random_state': 10}"
      ]
     },
     "execution_count": 27,
     "metadata": {},
     "output_type": "execute_result"
    }
   ],
   "source": [
    "forest_grid_search.best_params_"
   ]
  },
  {
   "cell_type": "code",
   "execution_count": 20,
   "metadata": {},
   "outputs": [
    {
     "data": {
      "text/plain": [
       "0.7466427931960609"
      ]
     },
     "execution_count": 20,
     "metadata": {},
     "output_type": "execute_result"
    }
   ],
   "source": [
    "forest_grid_search_v2.score(X_test, y_test)"
   ]
  },
  {
   "cell_type": "code",
   "execution_count": 21,
   "metadata": {},
   "outputs": [
    {
     "data": {
      "text/plain": [
       "{'criterion': 'entropy',\n",
       " 'max_depth': None,\n",
       " 'max_features': None,\n",
       " 'min_samples_leaf': 0.1,\n",
       " 'min_samples_split': 0.1,\n",
       " 'n_estimators': 100,\n",
       " 'random_state': 10}"
      ]
     },
     "execution_count": 21,
     "metadata": {},
     "output_type": "execute_result"
    }
   ],
   "source": [
    "forest_grid_search_v2.best_params_"
   ]
  },
  {
   "cell_type": "code",
   "execution_count": null,
   "metadata": {},
   "outputs": [],
   "source": []
  }
 ],
 "metadata": {
  "kernelspec": {
   "display_name": "Python 3",
   "language": "python",
   "name": "python3"
  },
  "language_info": {
   "codemirror_mode": {
    "name": "ipython",
    "version": 3
   },
   "file_extension": ".py",
   "mimetype": "text/x-python",
   "name": "python",
   "nbconvert_exporter": "python",
   "pygments_lexer": "ipython3",
   "version": "3.8.5"
  }
 },
 "nbformat": 4,
 "nbformat_minor": 4
}

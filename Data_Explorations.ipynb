{
 "cells": [
  {
   "cell_type": "code",
   "execution_count": 1,
   "metadata": {},
   "outputs": [],
   "source": [
    "import pandas as pd\n",
    "import matplotlib.pyplot as plt\n",
    "import numpy as np\n",
    "df = pd.read_csv('datasets/backloggd_games.csv', index_col= 0)"
   ]
  },
  {
   "cell_type": "markdown",
   "metadata": {},
   "source": [
    "### Remove unecessary columns and rows for this analysis \n",
    "Data corresponding with users willingness to play or will play is not used for this project. Finite information such as number of users played and ratings are used instead. <br>\n",
    "**TBD** for the release will be removed since they are not out yet to be looked at. "
   ]
  },
  {
   "cell_type": "code",
   "execution_count": 2,
   "metadata": {},
   "outputs": [],
   "source": [
    "df.columns\n",
    "\n",
    "### Solution: Drop the columns not needed via Pandas\n",
    "df.drop(['Wishlist', 'Backlogs','Playing', 'Lists', 'Summary'], axis = 1, inplace= True)\n",
    "### Solution: Drop all the release date categories as TBD\n",
    "df.drop(df[df['Release_Date'] == 'TBD'].index, inplace= True)\n",
    "\n",
    "df.Release_Date = df.Release_Date.apply(lambda x: int(x[-4:]))\n",
    "\n",
    "df.drop(df[df.Release_Date > 2023].index, inplace= True)\n",
    "df.drop(df[df.Release_Date < 1990].index, inplace= True)\n",
    "df.drop(df[df.Rating.isna()].index, inplace= True)\n"
   ]
  },
  {
   "cell_type": "markdown",
   "metadata": {},
   "source": [
    "### Looking for dups based off different cases. \n",
    "1. Actual Dups\n",
    "2. Verison Differences\n",
    "3. Remakes/Rereleases"
   ]
  },
  {
   "cell_type": "code",
   "execution_count": 3,
   "metadata": {},
   "outputs": [
    {
     "name": "stdout",
     "output_type": "stream",
     "text": [
      "Number of true duplicates before: 4771\n",
      "Number of true duplicates after: 0\n"
     ]
    }
   ],
   "source": [
    "print('Number of true duplicates before: {}'.format(len(df[df.duplicated()])))\n",
    "\n",
    "### Solution: drop duplicates via Pandas\n",
    "df.drop_duplicates(inplace= True)   \n",
    "\n",
    "print('Number of true duplicates after: {}'.format(len(df[df.duplicated()])))"
   ]
  },
  {
   "cell_type": "markdown",
   "metadata": {},
   "source": [
    "### Format the data types to make it eaiers to compare and look\n",
    "1. Convert the K in Plays\n",
    "2. Convert the K in Reviews"
   ]
  },
  {
   "cell_type": "code",
   "execution_count": 4,
   "metadata": {},
   "outputs": [
    {
     "name": "stdout",
     "output_type": "stream",
     "text": [
      "<class 'pandas.core.frame.DataFrame'>\n",
      "Int64Index: 19041 entries, 0 to 59996\n",
      "Data columns (total 8 columns):\n",
      " #   Column        Non-Null Count  Dtype  \n",
      "---  ------        --------------  -----  \n",
      " 0   Title         19041 non-null  object \n",
      " 1   Release_Date  19041 non-null  int64  \n",
      " 2   Developers    19041 non-null  object \n",
      " 3   Platforms     19041 non-null  object \n",
      " 4   Genres        19041 non-null  object \n",
      " 5   Rating        19041 non-null  float64\n",
      " 6   Plays         19041 non-null  object \n",
      " 7   Reviews       19041 non-null  object \n",
      "dtypes: float64(1), int64(1), object(6)\n",
      "memory usage: 1.3+ MB\n"
     ]
    }
   ],
   "source": [
    "df.info()\n",
    "\n",
    "### Solution: Apply function to convert the K in the columns \n",
    "def value_to_float(x):\n",
    "    if type(x) == float or type(x) == int:\n",
    "        return x\n",
    "    if 'K' in x:\n",
    "        if len(x) > 1:\n",
    "            return float(x.replace('K', '')) * 1000\n",
    "        return 1000\n",
    "    return 0.0\n",
    "    \n",
    "df['Plays'] = df['Plays'].apply(value_to_float)\n",
    "df['Reviews'] = df['Reviews'].apply(value_to_float)\n"
   ]
  },
  {
   "cell_type": "markdown",
   "metadata": {},
   "source": [
    "## Fill Missing Values with the correct or acceptable values\n",
    "1. Rating is 0 \n",
    "2. Play is 0\n",
    "3. Review is 0 \n",
    "\n",
    "This is assuming that not enough people are not in the dataset meaning that it is poor performing or not in consideration to be game of the year."
   ]
  },
  {
   "cell_type": "code",
   "execution_count": 5,
   "metadata": {},
   "outputs": [
    {
     "data": {
      "text/plain": [
       "Title           0\n",
       "Release_Date    0\n",
       "Developers      0\n",
       "Platforms       0\n",
       "Genres          0\n",
       "Rating          0\n",
       "Plays           0\n",
       "Reviews         0\n",
       "dtype: int64"
      ]
     },
     "metadata": {},
     "output_type": "display_data"
    }
   ],
   "source": [
    "display(df.isna().sum())\n",
    "### Solution: Use panda to fill all missing values with 0 \n",
    "df[['Plays', 'Reviews', 'Rating']] = df[['Plays', 'Reviews', 'Rating']].fillna(-1, axis= 1)"
   ]
  },
  {
   "cell_type": "markdown",
   "metadata": {},
   "source": [
    "## Distributions\n",
    "Checks out the data distritution \n",
    "Rating appears to be a normal distribution. The missing ratings are not included. Most games have multiple developers and have a combination of them. \n",
    "Many of the "
   ]
  },
  {
   "cell_type": "code",
   "execution_count": 6,
   "metadata": {},
   "outputs": [
    {
     "data": {
      "image/png": "[encoded data removed]",
      "text/plain": [
       "<Figure size 432x288 with 1 Axes>"
      ]
     },
     "metadata": {
      "needs_background": "light"
     },
     "output_type": "display_data"
    }
   ],
   "source": [
    "### Rating Distrbution \n",
    "df[df.Rating >= 0].Rating.plot(kind = 'hist', title = 'Rating Distributions', xlabel = 'Rating', sharex = False);\n"
   ]
  },
  {
   "cell_type": "code",
   "execution_count": 7,
   "metadata": {},
   "outputs": [],
   "source": [
    "all_developers = df.Developers.values\n",
    "split_devs = {}\n",
    "for group in all_developers:\n",
    "    new_list = group.strip('\\'[ ]').split('\\', \\'')\n",
    "\n",
    "    for element in new_list:\n",
    "        key = element\n",
    "        if key == '':\n",
    "            key = 'NG'\n",
    "        if split_devs.get(key) == None:\n",
    "            split_devs[key] = 1 \n",
    "        else:\n",
    "            split_devs[key] += 1\n",
    "\n",
    "sort_dict = dict(sorted(split_devs.items(), key = lambda x: x[1], reverse= True))\n",
    "counter = 0\n",
    "for key in sort_dict:\n",
    "    if sort_dict[key] == 1:\n",
    "        counter += 1\n",
    "        \n"
   ]
  },
  {
   "cell_type": "code",
   "execution_count": 8,
   "metadata": {},
   "outputs": [
    {
     "name": "stdout",
     "output_type": "stream",
     "text": [
      "16.27 % of the developers created only one game. \n",
      "This lowers the chances that these games would have multiple games of the year for different years due to numbers\n",
      "6.5 % video games do not have a Developer listed which indicate that they are too new or don't have a name for the game yet.\n",
      "Most likely classified as Indie Games. \n"
     ]
    }
   ],
   "source": [
    "print('''{} % of the developers created only one game. \n",
    "This lowers the chances that these games would have multiple games of the year for different years due to numbers'''.format(round(counter/sum(sort_dict.values())*100,2)))\n",
    "print('''{} % video games do not have a Developer listed which indicate that they are too new or don't have a name for the game yet.\n",
    "Most likely classified as Indie Games. '''.format(round(sort_dict['NG']/sum(sort_dict.values())*100,2)))"
   ]
  },
  {
   "cell_type": "code",
   "execution_count": 9,
   "metadata": {},
   "outputs": [],
   "source": [
    "all_genres = df.Genres.values\n",
    "split_genres = {}\n",
    "for group in all_genres:\n",
    "    new_list = group.strip('\\'[ ]').split('\\', \\'')\n",
    "\n",
    "    for element in new_list:\n",
    "        key = element\n",
    "        if split_genres.get(key) == None:\n",
    "            split_genres[key] = 1 \n",
    "        else:\n",
    "            split_genres[key] += 1\n",
    "sort_genres = dict(sorted(split_genres.items(), key = lambda x: x[1], reverse= False))"
   ]
  },
  {
   "cell_type": "code",
   "execution_count": 21,
   "metadata": {},
   "outputs": [
    {
     "data": {
      "image/png": "[encoded data removed]",
      "text/plain": [
       "<Figure size 432x288 with 1 Axes>"
      ]
     },
     "metadata": {
      "needs_background": "light"
     },
     "output_type": "display_data"
    }
   ],
   "source": [
    "plt.barh(list(sort_dict.keys())[0:10], list(sort_dict.values())[0:10]);\n",
    "plt.title('Number of Games By Developers');\n",
    "plt.xlabel('Frequency');\n",
    "plt.ylabel('Developers');"
   ]
  },
  {
   "cell_type": "code",
   "execution_count": 15,
   "metadata": {},
   "outputs": [
    {
     "data": {
      "text/plain": [
       "3.8373517528997785"
      ]
     },
     "execution_count": 15,
     "metadata": {},
     "output_type": "execute_result"
    }
   ],
   "source": []
  },
  {
   "cell_type": "code",
   "execution_count": null,
   "metadata": {},
   "outputs": [],
   "source": [
    "plt.figure(figsize= (10,10))\n",
    "plt.barh(list(sort_genres.keys()), list(sort_genres.values()));\n",
    "plt.title('Most Common Genres');\n",
    "plt.ylabel('Genres');\n",
    "plt.xlabel('Frequency');"
   ]
  },
  {
   "cell_type": "code",
   "execution_count": null,
   "metadata": {},
   "outputs": [],
   "source": [
    "df[(df.Developers == '[]') & (df.Rating == -1)]"
   ]
  },
  {
   "cell_type": "code",
   "execution_count": null,
   "metadata": {},
   "outputs": [],
   "source": [
    "# pip install langdetect"
   ]
  },
  {
   "cell_type": "code",
   "execution_count": null,
   "metadata": {},
   "outputs": [],
   "source": [
    "from langdetect import detect\n",
    "detect(\"War doesn't show who's right, just who's left.\")"
   ]
  },
  {
   "cell_type": "code",
   "execution_count": null,
   "metadata": {},
   "outputs": [],
   "source": []
  }
 ],
 "metadata": {
  "kernelspec": {
   "display_name": "Python 3",
   "language": "python",
   "name": "python3"
  },
  "language_info": {
   "codemirror_mode": {
    "name": "ipython",
    "version": 3
   },
   "file_extension": ".py",
   "mimetype": "text/x-python",
   "name": "python",
   "nbconvert_exporter": "python",
   "pygments_lexer": "ipython3",
   "version": "3.8.5"
  }
 },
 "nbformat": 4,
 "nbformat_minor": 4
}

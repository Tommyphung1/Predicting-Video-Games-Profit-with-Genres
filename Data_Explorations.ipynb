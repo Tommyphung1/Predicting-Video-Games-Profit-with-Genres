{
 "cells": [
  {
   "cell_type": "code",
   "execution_count": 1,
   "metadata": {},
   "outputs": [],
   "source": [
    "import pandas as pd\n",
    "import matplotlib.pyplot as plt\n",
    "import numpy as np\n",
    "from functions import data_cleaning as dc \n",
    "df = pd.read_csv('datasets/backloggd_games.csv', index_col= 0)\n",
    "ranked_df = pd.read_csv('datasets/vgsales.csv')"
   ]
  },
  {
   "cell_type": "markdown",
   "metadata": {},
   "source": [
    "### Backloggd Info\n",
    "**Title, Release Date, Genres, Rating, Developers should be kept.** <br>\n",
    "**Rating has missing** values <br>\n",
    "**60,000** games "
   ]
  },
  {
   "cell_type": "code",
   "execution_count": 2,
   "metadata": {},
   "outputs": [
    {
     "name": "stdout",
     "output_type": "stream",
     "text": [
      "<class 'pandas.core.frame.DataFrame'>\n",
      "Int64Index: 60000 entries, 0 to 59999\n",
      "Data columns (total 13 columns):\n",
      " #   Column        Non-Null Count  Dtype  \n",
      "---  ------        --------------  -----  \n",
      " 0   Title         60000 non-null  object \n",
      " 1   Release_Date  60000 non-null  object \n",
      " 2   Developers    60000 non-null  object \n",
      " 3   Summary       55046 non-null  object \n",
      " 4   Platforms     60000 non-null  object \n",
      " 5   Genres        60000 non-null  object \n",
      " 6   Rating        25405 non-null  float64\n",
      " 7   Plays         60000 non-null  object \n",
      " 8   Playing       60000 non-null  object \n",
      " 9   Backlogs      60000 non-null  object \n",
      " 10  Wishlist      60000 non-null  object \n",
      " 11  Lists         60000 non-null  object \n",
      " 12  Reviews       60000 non-null  object \n",
      "dtypes: float64(1), object(12)\n",
      "memory usage: 6.4+ MB\n"
     ]
    }
   ],
   "source": [
    "df.info()"
   ]
  },
  {
   "cell_type": "markdown",
   "metadata": {},
   "source": [
    "### Vgames Info\n",
    "Name, Global Sale, and Publisher should be kept <br>\n",
    "16598 games listed. <br>\n",
    "A couple of missing values in some columns"
   ]
  },
  {
   "cell_type": "code",
   "execution_count": 3,
   "metadata": {},
   "outputs": [
    {
     "name": "stdout",
     "output_type": "stream",
     "text": [
      "<class 'pandas.core.frame.DataFrame'>\n",
      "RangeIndex: 16598 entries, 0 to 16597\n",
      "Data columns (total 11 columns):\n",
      " #   Column        Non-Null Count  Dtype  \n",
      "---  ------        --------------  -----  \n",
      " 0   Rank          16598 non-null  int64  \n",
      " 1   Name          16598 non-null  object \n",
      " 2   Platform      16598 non-null  object \n",
      " 3   Year          16327 non-null  float64\n",
      " 4   Genre         16598 non-null  object \n",
      " 5   Publisher     16540 non-null  object \n",
      " 6   NA_Sales      16598 non-null  float64\n",
      " 7   EU_Sales      16598 non-null  float64\n",
      " 8   JP_Sales      16598 non-null  float64\n",
      " 9   Other_Sales   16598 non-null  float64\n",
      " 10  Global_Sales  16598 non-null  float64\n",
      "dtypes: float64(6), int64(1), object(4)\n",
      "memory usage: 1.4+ MB\n"
     ]
    }
   ],
   "source": [
    "ranked_df.info()"
   ]
  },
  {
   "cell_type": "markdown",
   "metadata": {},
   "source": [
    "### Remove unecessary columns and rows for this analysis \n",
    "Data corresponding with users willingness to play or will play is not used for this project. Finite information such as number of users played and ratings are used instead. <br>\n",
    "**TBD** for the release will be removed since they are not out yet to be looked at. "
   ]
  },
  {
   "cell_type": "code",
   "execution_count": 4,
   "metadata": {},
   "outputs": [],
   "source": [
    "df.columns\n",
    "\n",
    "### Solution: Drop the columns not needed via Pandas\n",
    "df.drop(['Wishlist', 'Backlogs','Playing', 'Lists', 'Summary'], axis = 1, inplace= True)\n",
    "### Solution: Drop all the release date categories as TBD\n",
    "df.drop(df[df['Release_Date'] == 'TBD'].index, inplace= True)\n",
    "\n",
    "df.Release_Date = df.Release_Date.apply(lambda x: int(x[-4:]))\n",
    "\n",
    "df.drop(df[df.Release_Date > 2023].index, inplace= True)\n",
    "df.drop(df[df.Release_Date < 1990].index, inplace= True)\n",
    "df.drop(df[df.Rating.isna()].index, inplace= True)\n"
   ]
  },
  {
   "cell_type": "markdown",
   "metadata": {},
   "source": [
    "### Looking for dups based off different cases. \n",
    "1. Actual Dups\n",
    "2. Verison Differences\n",
    "3. Remakes/Rereleases"
   ]
  },
  {
   "cell_type": "code",
   "execution_count": 5,
   "metadata": {},
   "outputs": [
    {
     "name": "stdout",
     "output_type": "stream",
     "text": [
      "Number of true duplicates before: 4771\n",
      "Number of true duplicates after: 0\n"
     ]
    }
   ],
   "source": [
    "print('Number of true duplicates before: {}'.format(len(df[df.duplicated()])))\n",
    "\n",
    "### Solution: drop duplicates via Pandas\n",
    "df.drop_duplicates(inplace= True)   \n",
    "\n",
    "print('Number of true duplicates after: {}'.format(len(df[df.duplicated()])))"
   ]
  },
  {
   "cell_type": "markdown",
   "metadata": {},
   "source": [
    "### Format the data types to make it eaiers to compare and look\n",
    "1. Convert the K in Plays\n",
    "2. Convert the K in Reviews"
   ]
  },
  {
   "cell_type": "code",
   "execution_count": 6,
   "metadata": {},
   "outputs": [
    {
     "name": "stdout",
     "output_type": "stream",
     "text": [
      "<class 'pandas.core.frame.DataFrame'>\n",
      "Int64Index: 19041 entries, 0 to 59996\n",
      "Data columns (total 8 columns):\n",
      " #   Column        Non-Null Count  Dtype  \n",
      "---  ------        --------------  -----  \n",
      " 0   Title         19041 non-null  object \n",
      " 1   Release_Date  19041 non-null  int64  \n",
      " 2   Developers    19041 non-null  object \n",
      " 3   Platforms     19041 non-null  object \n",
      " 4   Genres        19041 non-null  object \n",
      " 5   Rating        19041 non-null  float64\n",
      " 6   Plays         19041 non-null  object \n",
      " 7   Reviews       19041 non-null  object \n",
      "dtypes: float64(1), int64(1), object(6)\n",
      "memory usage: 1.3+ MB\n"
     ]
    }
   ],
   "source": [
    "df.info()\n",
    "\n",
    "### Solution: Apply function to convert the K in the columns \n",
    "def value_to_float(x):\n",
    "    if type(x) == float or type(x) == int:\n",
    "        return x\n",
    "    if 'K' in x:\n",
    "        if len(x) > 1:\n",
    "            return float(x.replace('K', '')) * 1000\n",
    "        return 1000\n",
    "    return 0.0\n",
    "    \n",
    "df['Plays'] = df['Plays'].apply(value_to_float)\n",
    "df['Reviews'] = df['Reviews'].apply(value_to_float)\n"
   ]
  },
  {
   "cell_type": "markdown",
   "metadata": {},
   "source": [
    "## Fill Missing Values with the correct or acceptable values\n",
    "1. Rating is 0 \n",
    "2. Play is 0\n",
    "3. Review is 0 \n",
    "\n",
    "This is assuming that not enough people are not in the dataset meaning that it is poor performing or not in consideration to be game of the year."
   ]
  },
  {
   "cell_type": "code",
   "execution_count": 7,
   "metadata": {},
   "outputs": [
    {
     "data": {
      "text/plain": [
       "Title           0\n",
       "Release_Date    0\n",
       "Developers      0\n",
       "Platforms       0\n",
       "Genres          0\n",
       "Rating          0\n",
       "Plays           0\n",
       "Reviews         0\n",
       "dtype: int64"
      ]
     },
     "metadata": {},
     "output_type": "display_data"
    }
   ],
   "source": [
    "display(df.isna().sum())\n",
    "### Solution: Use panda to fill all missing values with 0 \n",
    "df[['Plays', 'Reviews', 'Rating']] = df[['Plays', 'Reviews', 'Rating']].fillna(-1, axis= 1)"
   ]
  },
  {
   "cell_type": "markdown",
   "metadata": {},
   "source": [
    "## Distributions\n",
    "Checks out the data distritution \n",
    "Rating appears to be a normal distribution. The missing ratings are not included. Most games have multiple developers and have a combination of them. \n",
    "Many of the "
   ]
  },
  {
   "cell_type": "code",
   "execution_count": 8,
   "metadata": {},
   "outputs": [
    {
     "data": {
      "image/png": "[encoded data removed]",
      "text/plain": [
       "<Figure size 432x288 with 1 Axes>"
      ]
     },
     "metadata": {
      "needs_background": "light"
     },
     "output_type": "display_data"
    }
   ],
   "source": [
    "### Rating Distrbution \n",
    "df[df.Rating >= 0].Rating.plot(kind = 'hist', title = 'Rating Distributions', xlabel = 'Rating', sharex = False);\n"
   ]
  },
  {
   "cell_type": "code",
   "execution_count": 9,
   "metadata": {},
   "outputs": [],
   "source": [
    "all_developers = df.Developers.values\n",
    "split_devs = {}\n",
    "for group in all_developers:\n",
    "    new_list = group.strip('\\'[ ]').split('\\', \\'')\n",
    "\n",
    "    for element in new_list:\n",
    "        key = element\n",
    "        if key == '':\n",
    "            key = 'NG'\n",
    "        if split_devs.get(key) == None:\n",
    "            split_devs[key] = 1 \n",
    "        else:\n",
    "            split_devs[key] += 1\n",
    "\n",
    "sort_dict = dict(sorted(split_devs.items(), key = lambda x: x[1], reverse= True))\n",
    "counter = 0\n",
    "for key in sort_dict:\n",
    "    if sort_dict[key] == 1:\n",
    "        counter += 1"
   ]
  },
  {
   "cell_type": "code",
   "execution_count": 10,
   "metadata": {},
   "outputs": [
    {
     "name": "stdout",
     "output_type": "stream",
     "text": [
      "16.27 % of the developers created only one game. \n",
      "This lowers the chances that these games would have multiple games of the year for different years due to numbers\n",
      "6.5 % video games do not have a Developer listed which indicate that they are too new or don't have a name for the game yet.\n",
      "Most likely classified as Indie Games. \n"
     ]
    }
   ],
   "source": [
    "print('''{} % of the developers created only one game. \n",
    "This lowers the chances that these games would have multiple games of the year for different years due to numbers'''.format(round(counter/sum(sort_dict.values())*100,2)))\n",
    "print('''{} % video games do not have a Developer listed which indicate that they are too new or don't have a name for the game yet.\n",
    "Most likely classified as Indie Games. '''.format(round(sort_dict['NG']/sum(sort_dict.values())*100,2)))"
   ]
  },
  {
   "cell_type": "code",
   "execution_count": 11,
   "metadata": {},
   "outputs": [],
   "source": [
    "all_genres = df.Genres.values\n",
    "split_genres = {}\n",
    "for group in all_genres:\n",
    "    new_list = group.strip('\\'[ ]').split('\\', \\'')\n",
    "\n",
    "    for element in new_list:\n",
    "        key = element\n",
    "        if split_genres.get(key) == None:\n",
    "            split_genres[key] = 1 \n",
    "        else:\n",
    "            split_genres[key] += 1\n",
    "sort_genres = dict(sorted(split_genres.items(), key = lambda x: x[1], reverse= False))"
   ]
  },
  {
   "cell_type": "markdown",
   "metadata": {},
   "source": [
    "### Developer Distributions"
   ]
  },
  {
   "cell_type": "code",
   "execution_count": 12,
   "metadata": {},
   "outputs": [
    {
     "data": {
      "image/png": "[encoded data removed]",
      "text/plain": [
       "<Figure size 432x288 with 1 Axes>"
      ]
     },
     "metadata": {
      "needs_background": "light"
     },
     "output_type": "display_data"
    }
   ],
   "source": [
    "plt.barh(list(sort_dict.keys())[0:10], list(sort_dict.values())[0:10]);\n",
    "plt.title('Number of Games By Developers');\n",
    "plt.xlabel('Frequency');\n",
    "plt.ylabel('Developers');"
   ]
  },
  {
   "cell_type": "markdown",
   "metadata": {},
   "source": [
    "### Genre Distribution"
   ]
  },
  {
   "cell_type": "code",
   "execution_count": 13,
   "metadata": {},
   "outputs": [
    {
     "data": {
      "image/png": "[encoded data removed]",
      "text/plain": [
       "<Figure size 720x720 with 1 Axes>"
      ]
     },
     "metadata": {
      "needs_background": "light"
     },
     "output_type": "display_data"
    }
   ],
   "source": [
    "plt.figure(figsize= (10,10))\n",
    "plt.barh(list(sort_genres.keys()), list(sort_genres.values()));\n",
    "plt.title('Most Common Genres');\n",
    "plt.ylabel('Genres');\n",
    "plt.xlabel('Frequency');"
   ]
  },
  {
   "cell_type": "markdown",
   "metadata": {},
   "source": [
    "### Number of Developer with only one game"
   ]
  },
  {
   "cell_type": "code",
   "execution_count": 14,
   "metadata": {},
   "outputs": [
    {
     "data": {
      "text/plain": [
       "7673"
      ]
     },
     "execution_count": 14,
     "metadata": {},
     "output_type": "execute_result"
    }
   ],
   "source": [
    "only_one = []\n",
    "for key in sort_dict:\n",
    "    if(sort_dict[key] == 1):\n",
    "        only_one.append(key)\n",
    "len(sort_dict.keys())"
   ]
  },
  {
   "cell_type": "markdown",
   "metadata": {},
   "source": [
    "## Ranked Game Exploration"
   ]
  },
  {
   "cell_type": "code",
   "execution_count": 15,
   "metadata": {},
   "outputs": [],
   "source": [
    "ranked_df = ranked_df[['Name', 'Global_Sales']]"
   ]
  },
  {
   "cell_type": "code",
   "execution_count": 16,
   "metadata": {},
   "outputs": [],
   "source": [
    "found = df[df.Title.isin(ranked_df.Name.unique())].Title.values"
   ]
  },
  {
   "cell_type": "code",
   "execution_count": 17,
   "metadata": {},
   "outputs": [],
   "source": [
    "title_list = []\n",
    "for title in ranked_df.Name.unique():\n",
    "    if title not in found:\n",
    "        title_list.append(title)"
   ]
  },
  {
   "cell_type": "code",
   "execution_count": 18,
   "metadata": {},
   "outputs": [
    {
     "data": {
      "text/plain": [
       "7614"
      ]
     },
     "execution_count": 18,
     "metadata": {},
     "output_type": "execute_result"
    }
   ],
   "source": [
    "len(title_list)"
   ]
  },
  {
   "cell_type": "code",
   "execution_count": 20,
   "metadata": {},
   "outputs": [],
   "source": [
    "df = pd.read_csv('datasets/backloggd_games.csv', index_col= 0)\n",
    "ranked_df = pd.read_csv('datasets/vgsales.csv')\n",
    "\n",
    "comb_df = df[df.Title.isin(ranked_df.Name.unique())]\n",
    "comb_df.reset_index(drop= True, inplace = True)\n",
    "\n",
    "comb_df = comb_df[['Title', 'Genres', 'Rating']] \n",
    "comb_df.drop_duplicates(subset= 'Title', inplace= True)    ### Drop any duplicates\n",
    "comb_df.Genres = df.Genres.apply(dc.convert_to_list)   ### Convert to list like\n",
    "\n",
    "matched_df = ranked_df[ranked_df.Name.isin(comb_df.Title.unique())][['Name', 'Global_Sales', 'Platform']]    ### Only Game title that are in both datasets.\n",
    "final_df = comb_df.sort_values('Title')\n",
    "final_df['Global_Sales'] = matched_df.groupby('Name').sum().sort_values('Name').Global_Sales.values\n",
    "final_df.reset_index(drop= True, inplace= True)"
   ]
  },
  {
   "cell_type": "code",
   "execution_count": 32,
   "metadata": {},
   "outputs": [
    {
     "data": {
      "text/plain": [
       "<matplotlib.collections.LineCollection at 0x27a38d5c520>"
      ]
     },
     "execution_count": 32,
     "metadata": {},
     "output_type": "execute_result"
    },
    {
     "data": {
      "image/png": "[encoded data removed]",
      "text/plain": [
       "<Figure size 432x288 with 1 Axes>"
      ]
     },
     "metadata": {
      "needs_background": "light"
     },
     "output_type": "display_data"
    }
   ],
   "source": [
    "fig, ax = plt.subplots()\n",
    "\n",
    "ax.scatter(x = final_df.index, y = final_df.Global_Sales)\n",
    "ax.vlines(final_df.Global_Sales.mean(), 0, 80, colors= 'r')"
   ]
  },
  {
   "cell_type": "code",
   "execution_count": 30,
   "metadata": {},
   "outputs": [
    {
     "data": {
      "text/plain": [
       "1.3712024182713838"
      ]
     },
     "execution_count": 30,
     "metadata": {},
     "output_type": "execute_result"
    }
   ],
   "source": [
    "final_df.Global_Sales.mean()"
   ]
  },
  {
   "cell_type": "code",
   "execution_count": null,
   "metadata": {},
   "outputs": [],
   "source": []
  }
 ],
 "metadata": {
  "kernelspec": {
   "display_name": "Python 3",
   "language": "python",
   "name": "python3"
  },
  "language_info": {
   "codemirror_mode": {
    "name": "ipython",
    "version": 3
   },
   "file_extension": ".py",
   "mimetype": "text/x-python",
   "name": "python",
   "nbconvert_exporter": "python",
   "pygments_lexer": "ipython3",
   "version": "3.8.5"
  }
 },
 "nbformat": 4,
 "nbformat_minor": 4
}

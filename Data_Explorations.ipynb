{
 "cells": [
  {
   "cell_type": "code",
   "execution_count": 1,
   "metadata": {},
   "outputs": [],
   "source": [
    "import pandas as pd\n",
    "import matplotlib.pyplot as plt\n",
    "import numpy as np\n",
    "from functions import data_cleaning as dc \n",
    "df = pd.read_csv('datasets/backloggd_games.csv', index_col= 0)\n",
    "ranked_df = pd.read_csv('datasets/vgsales.csv')"
   ]
  },
  {
   "cell_type": "markdown",
   "metadata": {},
   "source": [
    "### Backloggd Info\n",
    "**Title, Release Date, Genres, Rating, Developers should be kept.** <br>\n",
    "**Rating has missing** values <br>\n",
    "**60,000** games "
   ]
  },
  {
   "cell_type": "code",
   "execution_count": 2,
   "metadata": {},
   "outputs": [
    {
     "name": "stdout",
     "output_type": "stream",
     "text": [
      "<class 'pandas.core.frame.DataFrame'>\n",
      "Int64Index: 60000 entries, 0 to 59999\n",
      "Data columns (total 13 columns):\n",
      " #   Column        Non-Null Count  Dtype  \n",
      "---  ------        --------------  -----  \n",
      " 0   Title         60000 non-null  object \n",
      " 1   Release_Date  60000 non-null  object \n",
      " 2   Developers    60000 non-null  object \n",
      " 3   Summary       55046 non-null  object \n",
      " 4   Platforms     60000 non-null  object \n",
      " 5   Genres        60000 non-null  object \n",
      " 6   Rating        25405 non-null  float64\n",
      " 7   Plays         60000 non-null  object \n",
      " 8   Playing       60000 non-null  object \n",
      " 9   Backlogs      60000 non-null  object \n",
      " 10  Wishlist      60000 non-null  object \n",
      " 11  Lists         60000 non-null  object \n",
      " 12  Reviews       60000 non-null  object \n",
      "dtypes: float64(1), object(12)\n",
      "memory usage: 6.4+ MB\n"
     ]
    }
   ],
   "source": [
    "df.info()"
   ]
  },
  {
   "cell_type": "markdown",
   "metadata": {},
   "source": [
    "### Vgames Info\n",
    "Name, Global Sale, and Publisher should be kept <br>\n",
    "16598 games listed. <br>\n",
    "A couple of missing values in some columns"
   ]
  },
  {
   "cell_type": "code",
   "execution_count": 3,
   "metadata": {},
   "outputs": [
    {
     "name": "stdout",
     "output_type": "stream",
     "text": [
      "<class 'pandas.core.frame.DataFrame'>\n",
      "RangeIndex: 16598 entries, 0 to 16597\n",
      "Data columns (total 11 columns):\n",
      " #   Column        Non-Null Count  Dtype  \n",
      "---  ------        --------------  -----  \n",
      " 0   Rank          16598 non-null  int64  \n",
      " 1   Name          16598 non-null  object \n",
      " 2   Platform      16598 non-null  object \n",
      " 3   Year          16327 non-null  float64\n",
      " 4   Genre         16598 non-null  object \n",
      " 5   Publisher     16540 non-null  object \n",
      " 6   NA_Sales      16598 non-null  float64\n",
      " 7   EU_Sales      16598 non-null  float64\n",
      " 8   JP_Sales      16598 non-null  float64\n",
      " 9   Other_Sales   16598 non-null  float64\n",
      " 10  Global_Sales  16598 non-null  float64\n",
      "dtypes: float64(6), int64(1), object(4)\n",
      "memory usage: 1.4+ MB\n"
     ]
    }
   ],
   "source": [
    "ranked_df.info()"
   ]
  },
  {
   "cell_type": "markdown",
   "metadata": {},
   "source": [
    "### Remove unecessary columns and rows for this analysis \n",
    "Data corresponding with users willingness to play or will play is not used for this project. Finite information such as number of users played and ratings are used instead. <br>\n",
    "**TBD** for the release will be removed since they are not out yet to be looked at. "
   ]
  },
  {
   "cell_type": "code",
   "execution_count": 4,
   "metadata": {},
   "outputs": [],
   "source": [
    "df.columns\n",
    "\n",
    "### Solution: Drop the columns not needed via Pandas\n",
    "df.drop(['Wishlist', 'Backlogs','Playing', 'Lists', 'Summary'], axis = 1, inplace= True)\n",
    "### Solution: Drop all the release date categories as TBD\n",
    "df.drop(df[df['Release_Date'] == 'TBD'].index, inplace= True)\n",
    "\n",
    "df.Release_Date = df.Release_Date.apply(lambda x: int(x[-4:]))\n",
    "\n",
    "df.drop(df[df.Release_Date > 2023].index, inplace= True)\n",
    "df.drop(df[df.Release_Date < 1990].index, inplace= True)\n",
    "df.drop(df[df.Rating.isna()].index, inplace= True)\n"
   ]
  },
  {
   "cell_type": "markdown",
   "metadata": {},
   "source": [
    "### Looking for dups based off different cases. \n",
    "1. Actual Dups\n",
    "2. Verison Differences\n",
    "3. Remakes/Rereleases"
   ]
  },
  {
   "cell_type": "code",
   "execution_count": 5,
   "metadata": {},
   "outputs": [
    {
     "name": "stdout",
     "output_type": "stream",
     "text": [
      "Number of true duplicates before: 4771\n",
      "Number of true duplicates after: 0\n"
     ]
    }
   ],
   "source": [
    "print('Number of true duplicates before: {}'.format(len(df[df.duplicated()])))\n",
    "\n",
    "### Solution: drop duplicates via Pandas\n",
    "df.drop_duplicates(inplace= True)   \n",
    "\n",
    "print('Number of true duplicates after: {}'.format(len(df[df.duplicated()])))"
   ]
  },
  {
   "cell_type": "markdown",
   "metadata": {},
   "source": [
    "### Format the data types to make it eaiers to compare and look\n",
    "1. Convert the K in Plays\n",
    "2. Convert the K in Reviews"
   ]
  },
  {
   "cell_type": "code",
   "execution_count": 6,
   "metadata": {},
   "outputs": [
    {
     "name": "stdout",
     "output_type": "stream",
     "text": [
      "<class 'pandas.core.frame.DataFrame'>\n",
      "Int64Index: 19041 entries, 0 to 59996\n",
      "Data columns (total 8 columns):\n",
      " #   Column        Non-Null Count  Dtype  \n",
      "---  ------        --------------  -----  \n",
      " 0   Title         19041 non-null  object \n",
      " 1   Release_Date  19041 non-null  int64  \n",
      " 2   Developers    19041 non-null  object \n",
      " 3   Platforms     19041 non-null  object \n",
      " 4   Genres        19041 non-null  object \n",
      " 5   Rating        19041 non-null  float64\n",
      " 6   Plays         19041 non-null  object \n",
      " 7   Reviews       19041 non-null  object \n",
      "dtypes: float64(1), int64(1), object(6)\n",
      "memory usage: 1.3+ MB\n"
     ]
    }
   ],
   "source": [
    "df.info()\n",
    "\n",
    "### Solution: Apply function to convert the K in the columns \n",
    "def value_to_float(x):\n",
    "    if type(x) == float or type(x) == int:\n",
    "        return x\n",
    "    if 'K' in x:\n",
    "        if len(x) > 1:\n",
    "            return float(x.replace('K', '')) * 1000\n",
    "        return 1000\n",
    "    return 0.0\n",
    "    \n",
    "df['Plays'] = df['Plays'].apply(value_to_float)\n",
    "df['Reviews'] = df['Reviews'].apply(value_to_float)\n"
   ]
  },
  {
   "cell_type": "markdown",
   "metadata": {},
   "source": [
    "## Fill Missing Values with the correct or acceptable values\n",
    "1. Rating is 0 \n",
    "2. Play is 0\n",
    "3. Review is 0 \n",
    "\n",
    "This is assuming that not enough people are not in the dataset meaning that it is poor performing or not in consideration to be game of the year."
   ]
  },
  {
   "cell_type": "code",
   "execution_count": 7,
   "metadata": {},
   "outputs": [
    {
     "data": {
      "text/plain": [
       "Title           0\n",
       "Release_Date    0\n",
       "Developers      0\n",
       "Platforms       0\n",
       "Genres          0\n",
       "Rating          0\n",
       "Plays           0\n",
       "Reviews         0\n",
       "dtype: int64"
      ]
     },
     "metadata": {},
     "output_type": "display_data"
    }
   ],
   "source": [
    "display(df.isna().sum())\n",
    "### Solution: Use panda to fill all missing values with 0 \n",
    "df[['Plays', 'Reviews', 'Rating']] = df[['Plays', 'Reviews', 'Rating']].fillna(-1, axis= 1)"
   ]
  },
  {
   "cell_type": "markdown",
   "metadata": {},
   "source": [
    "## Distributions\n",
    "Checks out the data distritution \n",
    "Rating appears to be a normal distribution. The missing ratings are not included. Most games have multiple developers and have a combination of them. \n",
    "Many of the "
   ]
  },
  {
   "cell_type": "code",
   "execution_count": 8,
   "metadata": {},
   "outputs": [
    {
     "ename": "NameError",
     "evalue": "name 'final_df' is not defined",
     "output_type": "error",
     "traceback": [
      "\u001b[1;31m---------------------------------------------------------------------------\u001b[0m",
      "\u001b[1;31mNameError\u001b[0m                                 Traceback (most recent call last)",
      "\u001b[1;32m<ipython-input-8-3556048b9e6c>\u001b[0m in \u001b[0;36m<module>\u001b[1;34m\u001b[0m\n\u001b[1;32m----> 1\u001b[1;33m \u001b[0mfinal_df\u001b[0m\u001b[1;33m.\u001b[0m\u001b[0mOver_1\u001b[0m\u001b[1;33m.\u001b[0m\u001b[0mvalue_counts\u001b[0m\u001b[1;33m(\u001b[0m\u001b[0mnormalize\u001b[0m\u001b[1;33m=\u001b[0m \u001b[1;32mTrue\u001b[0m\u001b[1;33m)\u001b[0m    \u001b[1;31m### Count the number of profitable values\u001b[0m\u001b[1;33m\u001b[0m\u001b[1;33m\u001b[0m\u001b[0m\n\u001b[0m\u001b[0;32m      2\u001b[0m \u001b[0mfinal_df\u001b[0m\u001b[1;33m[\u001b[0m\u001b[1;34m'Over_.1'\u001b[0m\u001b[1;33m]\u001b[0m\u001b[1;33m.\u001b[0m\u001b[0mvalue_counts\u001b[0m\u001b[1;33m(\u001b[0m\u001b[0mnormalize\u001b[0m\u001b[1;33m=\u001b[0m \u001b[1;32mTrue\u001b[0m\u001b[1;33m)\u001b[0m    \u001b[1;31m### Count the number of profitable values for indie threshold\u001b[0m\u001b[1;33m\u001b[0m\u001b[1;33m\u001b[0m\u001b[0m\n",
      "\u001b[1;31mNameError\u001b[0m: name 'final_df' is not defined"
     ]
    }
   ],
   "source": [
    "final_df.Over_1.value_counts(normalize= True)    ### Count the number of profitable values\n",
    "final_df['Over_.1'].value_counts(normalize= True)    ### Count the number of profitable values for indie threshold"
   ]
  },
  {
   "cell_type": "code",
   "execution_count": null,
   "metadata": {},
   "outputs": [],
   "source": [
    "### Rating Distrbution \n",
    "df[df.Rating >= 0].Rating.plot(kind = 'hist', title = 'Rating Distributions', xlabel = 'Rating', sharex = False);\n"
   ]
  },
  {
   "cell_type": "code",
   "execution_count": null,
   "metadata": {},
   "outputs": [],
   "source": [
    "all_developers = df.Developers.values\n",
    "split_devs = {}\n",
    "for group in all_developers:\n",
    "    new_list = group.strip('\\'[ ]').split('\\', \\'')\n",
    "\n",
    "    for element in new_list:\n",
    "        key = element\n",
    "        if key == '':\n",
    "            key = 'NG'\n",
    "        if split_devs.get(key) == None:\n",
    "            split_devs[key] = 1 \n",
    "        else:\n",
    "            split_devs[key] += 1\n",
    "\n",
    "sort_dict = dict(sorted(split_devs.items(), key = lambda x: x[1], reverse= True))\n",
    "counter = 0\n",
    "for key in sort_dict:\n",
    "    if sort_dict[key] == 1:\n",
    "        counter += 1"
   ]
  },
  {
   "cell_type": "code",
   "execution_count": null,
   "metadata": {},
   "outputs": [],
   "source": [
    "print('''{} % of the developers created only one game. \n",
    "This lowers the chances that these games would have multiple games of the year for different years due to numbers'''.format(round(counter/sum(sort_dict.values())*100,2)))\n",
    "print('''{} % video games do not have a Developer listed which indicate that they are too new or don't have a name for the game yet.\n",
    "Most likely classified as Indie Games. '''.format(round(sort_dict['NG']/sum(sort_dict.values())*100,2)))"
   ]
  },
  {
   "cell_type": "code",
   "execution_count": null,
   "metadata": {},
   "outputs": [],
   "source": [
    "all_genres = df.Genres.values\n",
    "split_genres = {}\n",
    "for group in all_genres:\n",
    "    new_list = group.strip('\\'[ ]').split('\\', \\'')\n",
    "\n",
    "    for element in new_list:\n",
    "        key = element\n",
    "        if split_genres.get(key) == None:\n",
    "            split_genres[key] = 1 \n",
    "        else:\n",
    "            split_genres[key] += 1\n",
    "sort_genres = dict(sorted(split_genres.items(), key = lambda x: x[1], reverse= False))"
   ]
  },
  {
   "cell_type": "markdown",
   "metadata": {},
   "source": [
    "### Developer Distributions"
   ]
  },
  {
   "cell_type": "code",
   "execution_count": null,
   "metadata": {},
   "outputs": [],
   "source": [
    "plt.barh(list(sort_dict.keys())[0:10], list(sort_dict.values())[0:10]);\n",
    "plt.title('Number of Games By Developers');\n",
    "plt.xlabel('Frequency');\n",
    "plt.ylabel('Developers');"
   ]
  },
  {
   "cell_type": "markdown",
   "metadata": {},
   "source": [
    "### Genre Distribution"
   ]
  },
  {
   "cell_type": "code",
   "execution_count": null,
   "metadata": {},
   "outputs": [],
   "source": [
    "plt.figure(figsize= (10,10))\n",
    "plt.barh(list(sort_genres.keys()), list(sort_genres.values()));\n",
    "plt.title('Most Common Genres');\n",
    "plt.ylabel('Genres');\n",
    "plt.xlabel('Frequency');"
   ]
  },
  {
   "cell_type": "code",
   "execution_count": null,
   "metadata": {},
   "outputs": [],
   "source": [
    "for index, key in enumerate(sort_genres):\n",
    "    print(index, key)"
   ]
  },
  {
   "cell_type": "markdown",
   "metadata": {},
   "source": [
    "### Number of Developer with only one game"
   ]
  },
  {
   "cell_type": "code",
   "execution_count": null,
   "metadata": {},
   "outputs": [],
   "source": [
    "only_one = []\n",
    "for key in sort_dict:\n",
    "    if(sort_dict[key] == 1):\n",
    "        only_one.append(key)\n",
    "len(sort_dict.keys())"
   ]
  },
  {
   "cell_type": "markdown",
   "metadata": {},
   "source": [
    "## Ranked Game Exploration"
   ]
  },
  {
   "cell_type": "code",
   "execution_count": null,
   "metadata": {},
   "outputs": [],
   "source": [
    "ranked_df = ranked_df[['Name', 'Global_Sales']]"
   ]
  },
  {
   "cell_type": "code",
   "execution_count": null,
   "metadata": {},
   "outputs": [],
   "source": [
    "found = df[df.Title.isin(ranked_df.Name.unique())].Title.values"
   ]
  },
  {
   "cell_type": "code",
   "execution_count": null,
   "metadata": {},
   "outputs": [],
   "source": [
    "title_list = []\n",
    "for title in ranked_df.Name.unique():\n",
    "    if title not in found:\n",
    "        title_list.append(title)"
   ]
  },
  {
   "cell_type": "code",
   "execution_count": null,
   "metadata": {},
   "outputs": [],
   "source": [
    "len(title_list)"
   ]
  },
  {
   "cell_type": "code",
   "execution_count": null,
   "metadata": {},
   "outputs": [],
   "source": [
    "df = pd.read_csv('datasets/backloggd_games.csv', index_col= 0)\n",
    "ranked_df = pd.read_csv('datasets/vgsales.csv')\n",
    "\n",
    "comb_df = df[df.Title.isin(ranked_df.Name.unique())]\n",
    "comb_df.reset_index(drop= True, inplace = True)\n",
    "\n",
    "comb_df = comb_df[['Title', 'Genres', 'Rating']] \n",
    "comb_df.drop_duplicates(subset= 'Title', inplace= True)    ### Drop any duplicates\n",
    "comb_df.Genres = df.Genres.apply(dc.convert_to_list)   ### Convert to list like\n",
    "\n",
    "matched_df = ranked_df[ranked_df.Name.isin(comb_df.Title.unique())][['Name', 'Global_Sales', 'Platform']]    ### Only Game title that are in both datasets.\n",
    "final_df = comb_df.sort_values('Title')\n",
    "final_df['Global_Sales'] = matched_df.groupby('Name').sum().sort_values('Name').Global_Sales.values\n",
    "final_df.reset_index(drop= True, inplace= True)"
   ]
  },
  {
   "cell_type": "code",
   "execution_count": null,
   "metadata": {},
   "outputs": [],
   "source": [
    "fig, ax = plt.subplots()\n",
    "\n",
    "ax.scatter(x = final_df.index, y = final_df.Global_Sales)\n",
    "ax.vlines(final_df.Global_Sales.mean(), 0, 80, colors= 'r')"
   ]
  },
  {
   "cell_type": "code",
   "execution_count": null,
   "metadata": {},
   "outputs": [],
   "source": [
    "final_df.Global_Sales.mean()"
   ]
  },
  {
   "cell_type": "code",
   "execution_count": null,
   "metadata": {},
   "outputs": [],
   "source": []
  },
  {
   "cell_type": "markdown",
   "metadata": {},
   "source": [
    "## Modeling Gridsearch"
   ]
  },
  {
   "cell_type": "markdown",
   "metadata": {},
   "source": [
    "### Random Indie Over .1"
   ]
  },
  {
   "cell_type": "code",
   "execution_count": null,
   "metadata": {},
   "outputs": [],
   "source": [
    "# {'criterion': 'entropy',\n",
    "#  'max_depth': None,\n",
    "#  'max_features': 10,\n",
    "#  'min_samples_leaf': 2,\n",
    "#  'min_samples_split': 10,\n",
    "#  'n_estimators': 10,\n",
    "#  'random_state': 10}\n",
    "\n",
    "# forest_clf_base_4 = RandomForestClassifier()\n",
    "# forest_grid_search_4 = GridSearchCV(forest_clf_base, param_grid, return_train_score= True, cv= 3, scoring= 'accuracy')\n",
    "# forest_grid_search_4.fit(X_train_4, y_train_4)"
   ]
  },
  {
   "cell_type": "markdown",
   "metadata": {},
   "source": [
    "### Random Indie Over 1"
   ]
  },
  {
   "cell_type": "code",
   "execution_count": null,
   "metadata": {},
   "outputs": [],
   "source": [
    "# {'criterion': 'entropy',\n",
    "#  'max_depth': 15,\n",
    "#  'max_features': 'sqrt',\n",
    "#  'min_samples_leaf': 2,\n",
    "#  'min_samples_split': 2,\n",
    "#  'n_estimators': 10,\n",
    "#  'random_state': 10}\n",
    "\n",
    "# forest_clf_base_3 = RandomForestClassifier()\n",
    "# forest_grid_search_3 = GridSearchCV(forest_clf_base, param_grid, return_train_score= True, cv= 3, scoring= 'accuracy')\n",
    "# forest_grid_search_3.fit(X_train_3, y_train_3)"
   ]
  },
  {
   "cell_type": "markdown",
   "metadata": {},
   "source": [
    "#### Old Gridsearch Parameters "
   ]
  },
  {
   "cell_type": "code",
   "execution_count": null,
   "metadata": {},
   "outputs": [],
   "source": [
    "# Accuracy Score\n",
    "# {'criterion': 'entropy',\n",
    "#  'max_depth': None,\n",
    "#  'max_features': None,\n",
    "#  'min_samples_leaf': 6,\n",
    "#  'min_samples_split': 0.1,\n",
    "#  'n_estimators': 20,\n",
    "#  'random_state': 10}\n",
    "\n",
    "# F1 Score\n",
    "# {'criterion': 'entropy',\n",
    "#  'max_depth': 20,\n",
    "#  'max_features': 20,\n",
    "#  'min_samples_leaf': 2,\n",
    "#  'min_samples_split': 2,\n",
    "#  'n_estimators': 75,\n",
    "#  'random_state': 10}\n",
    "\n",
    "# forest_clf_base = RandomForestClassifier()\n",
    "# forest_grid_search = GridSearchCV(forest_clf_base, param_grid, return_train_score= True, cv= 3, scoring= 'accuracy')\n",
    "# forest_grid_search.fit(X_train, y_train)\n",
    "\n",
    "# Accuracy Score\n",
    "# {'criterion': 'entropy',\n",
    "#  'max_depth': 15,\n",
    "#  'max_features': 'sqrt',\n",
    "#  'min_samples_leaf': 2,\n",
    "#  'min_samples_split': 2,\n",
    "#  'n_estimators': 100,\n",
    "#  'random_state': 10}\n",
    "\n",
    "# F1 Score\n",
    "# {'criterion': 'entropy',\n",
    "#  'max_depth': 15,\n",
    "#  'max_features': 'sqrt',\n",
    "#  'min_samples_leaf': 2,\n",
    "#  'min_samples_split': 2,\n",
    "#  'n_estimators': 100,\n",
    "#  'random_state': 10}\n",
    "\n",
    "\n",
    "# forest_clf_base_2 = RandomForestClassifier()\n",
    "# forest_grid_search = GridSearchCV(forest_clf_base, param_grid, return_train_score= True, cv= 3, scoring= 'accuracy')\n",
    "# forest_grid_search.fit(X_train, y_train_2)\n",
    "\n",
    "# Best Indie F1 - Over\n",
    "# {'criterion': 'entropy',\n",
    "#  'max_depth': None,\n",
    "#  'max_features': None,\n",
    "#  'min_samples_leaf': 2,\n",
    "#  'min_samples_split': 2,\n",
    "#  'n_estimators': 20,\n",
    "#  'random_state': 10}\n",
    "\n",
    "# forest_clf_base = RandomForestClassifier()\n",
    "# forest_grid_search = GridSearchCV(forest_clf_base, param_grid, return_train_score= True, cv= 3, scoring= 'f1')\n",
    "# forest_grid_search.fit(X_train, y_train)\n",
    "\n",
    "# Best Indie F1 - Indie\n",
    "# {'criterion': 'entropy',\n",
    "#  'max_depth': None,\n",
    "#  'max_features': 10,\n",
    "#  'min_samples_leaf': 2,\n",
    "#  'min_samples_split': 10,\n",
    "#  'n_estimators': 10,\n",
    "#  'random_state': 10}\n",
    "\n",
    "# forest_clf_base_2 = RandomForestClassifier()\n",
    "# forest_grid_search_2 = GridSearchCV(forest_clf_base_2, param_grid, return_train_score= True, cv= 3, scoring= 'f1')\n",
    "# forest_grid_search_2.fit(X_train, y_train_2)"
   ]
  },
  {
   "cell_type": "markdown",
   "metadata": {},
   "source": [
    "#### Best Accuracy Models "
   ]
  },
  {
   "cell_type": "code",
   "execution_count": null,
   "metadata": {},
   "outputs": [],
   "source": [
    "# ### Random Forest - GridSearch Sample Code\n",
    "# forest_clf_base = RandomForestClassifier(criterion = 'entropy',max_depth = 20, max_features = 20, min_samples_leaf = 2, min_samples_split = 2, n_estimators = 75, random_state = 10)\n",
    "# forest_clf_base.fit(X_train, y_train)\n",
    "\n",
    "# forest_clf_base_2 = RandomForestClassifier(criterion = 'entropy',max_depth = 15, max_features = 'sqrt', min_samples_leaf = 2, min_samples_split = 2, n_estimators = 100, random_state = 10)\n",
    "# forest_clf_base_2.fit(X_train, y_train_2)"
   ]
  },
  {
   "cell_type": "markdown",
   "metadata": {},
   "source": [
    "### Setup from Main Notebook"
   ]
  },
  {
   "cell_type": "code",
   "execution_count": 14,
   "metadata": {},
   "outputs": [],
   "source": [
    "df = pd.read_csv('datasets/backloggd_games.csv', index_col= 0)    ### Main dataset with the genres.\n",
    "ranked_df = pd.read_csv('datasets/vgsales.csv')                   ### Dataset to grab global sales from. \n",
    "comb_df = df[df.Title.isin(ranked_df.Name.unique())]              ### Only take the titles that matches\n",
    "comb_df.reset_index(drop= True, inplace = True)                   ### Resest the index for nice visuals\n",
    "\n",
    "comb_df = comb_df[['Title', 'Genres', 'Rating']]           ### Only Take the useable features\n",
    "comb_df.drop_duplicates(subset= 'Title', inplace= True)    ### Drop any duplicates\n",
    "comb_df.Genres = df.Genres.apply(dc.convert_to_list)       ### Convert to list like\n",
    "\n",
    "matched_df = ranked_df[ranked_df.Name.isin(comb_df.Title.unique())][['Name', 'Global_Sales', 'Platform']]    ### Only Game title that are in both datasets.\n",
    "final_df = comb_df.sort_values('Title')                                                                      ### Sort the Titles\n",
    "final_df['Global_Sales'] = matched_df.groupby('Name').sum().sort_values('Name').Global_Sales.values          ### Group the titles and sum the similar name entry in the dataset.\n",
    "final_df.reset_index(drop= True, inplace= True)                                                              ### Reset the index \n",
    "\n",
    "final_df['Over_1'] = 0\n",
    "final_df['Over_.1'] = 0\n",
    "final_df.loc[final_df['Title'].isin(ranked_df[ranked_df.Global_Sales >= 1].Name.values), 'Over_1'] = 1      ### Set 1 if over 1\n",
    "final_df.loc[final_df['Title'].isin(ranked_df[ranked_df.Global_Sales >= .1].Name.values), 'Over_.1'] = 1    ### Set 1 if over .1\n",
    "\n",
    "genre_df = pd.concat([final_df.Title, pd.get_dummies(final_df['Genres'].explode(),drop_first= True).groupby(level=0).sum(), final_df[['Over_1', 'Over_.1']]], axis= 1)\n",
    "rating_df = pd.concat([final_df.Title, pd.get_dummies(final_df['Genres'].explode(),drop_first= True).groupby(level=0).sum(), final_df['Rating']], axis= 1)"
   ]
  },
  {
   "cell_type": "code",
   "execution_count": 24,
   "metadata": {},
   "outputs": [
    {
     "name": "stdout",
     "output_type": "stream",
     "text": [
      "Genre: Adventure - Rating: 3.1757188498402558\n",
      "Genre: Arcade - Rating: 3.0073846153846158\n",
      "Genre: Brawler - Rating: 3.138871473354232\n",
      "Genre: Card & Board Game - Rating: 3.156603773584906\n",
      "Genre: Fighting - Rating: 3.0182432432432433\n",
      "Genre: Indie - Rating: 3.103516998827667\n",
      "Genre: MOBA - Rating: 2.8600000000000003\n",
      "Genre: Music - Rating: 2.9938775510204083\n",
      "Genre: Pinball - Rating: 2.983333333333333\n",
      "Genre: Platform - Rating: 3.1332920792079206\n",
      "Genre: Point-and-Click - Rating: 3.0048\n",
      "Genre: Puzzle - Rating: 3.1096938775510203\n",
      "Genre: Quiz/Trivia - Rating: 2.931428571428571\n",
      "Genre: RPG - Rating: 3.17683257918552\n",
      "Genre: Racing - Rating: 3.070555555555555\n",
      "Genre: Real Time Strategy - Rating: 3.0560606060606057\n",
      "Genre: Shooter - Rating: 3.1669767441860466\n",
      "Genre: Simulator - Rating: 3.0522222222222224\n",
      "Genre: Sport - Rating: 3.0090395480225984\n",
      "Genre: Strategy - Rating: 3.040631578947368\n",
      "Genre: Tactical - Rating: 3.1958620689655173\n",
      "Genre: Turn Based Strategy - Rating: 3.2521739130434786\n",
      "Genre: Visual Novel - Rating: 3.1993197278911567\n"
     ]
    }
   ],
   "source": [
    "genre_ratings = []\n",
    "for genre in rating_df.columns[1:24]:\n",
    "    genre_ratings.append((genre, rating_df[rating_df[genre] == 1]['Rating'].mean()))\n",
    "    print('Genre: {} - Rating: {}'.format(genre, rating_df[rating_df[genre] == 1]['Rating'].mean()))"
   ]
  },
  {
   "cell_type": "code",
   "execution_count": 48,
   "metadata": {},
   "outputs": [],
   "source": [
    "genre_ratings = sorted(genre_ratings, key= lambda x: x[1], reverse= False)"
   ]
  },
  {
   "cell_type": "code",
   "execution_count": 54,
   "metadata": {},
   "outputs": [
    {
     "data": {
      "text/plain": [
       "<BarContainer object of 5 artists>"
      ]
     },
     "execution_count": 54,
     "metadata": {},
     "output_type": "execute_result"
    },
    {
     "data": {
      "image/png": "[encoded data removed]",
      "text/plain": [
       "<Figure size 720x360 with 1 Axes>"
      ]
     },
     "metadata": {
      "needs_background": "light"
     },
     "output_type": "display_data"
    }
   ],
   "source": [
    "x = [key[0] for key in genre_ratings]\n",
    "y = [values[1] for values in genre_ratings]\n",
    "fig, ax = plt.subplots(figsize = (10,5))\n",
    "ax.barh(x[-5:],y[-5:])"
   ]
  },
  {
   "cell_type": "code",
   "execution_count": 55,
   "metadata": {},
   "outputs": [
    {
     "data": {
      "text/plain": [
       "[('MOBA', 2.8600000000000003),\n",
       " ('Quiz/Trivia', 2.931428571428571),\n",
       " ('Pinball', 2.983333333333333),\n",
       " ('Music', 2.9938775510204083),\n",
       " ('Point-and-Click', 3.0048),\n",
       " ('Arcade', 3.0073846153846158),\n",
       " ('Sport', 3.0090395480225984),\n",
       " ('Fighting', 3.0182432432432433),\n",
       " ('Strategy', 3.040631578947368),\n",
       " ('Simulator', 3.0522222222222224),\n",
       " ('Real Time Strategy', 3.0560606060606057),\n",
       " ('Racing', 3.070555555555555),\n",
       " ('Indie', 3.103516998827667),\n",
       " ('Puzzle', 3.1096938775510203),\n",
       " ('Platform', 3.1332920792079206),\n",
       " ('Brawler', 3.138871473354232),\n",
       " ('Card & Board Game', 3.156603773584906),\n",
       " ('Shooter', 3.1669767441860466),\n",
       " ('Adventure', 3.1757188498402558),\n",
       " ('RPG', 3.17683257918552),\n",
       " ('Tactical', 3.1958620689655173),\n",
       " ('Visual Novel', 3.1993197278911567),\n",
       " ('Turn Based Strategy', 3.2521739130434786)]"
      ]
     },
     "execution_count": 55,
     "metadata": {},
     "output_type": "execute_result"
    }
   ],
   "source": [
    "genre_ratings"
   ]
  },
  {
   "cell_type": "markdown",
   "metadata": {},
   "source": [
    "| Rank | Top Average Rating | Most Common |\n",
    "|:---:|:---:|:---:|\n",
    "| 1 | Turn Based Strategy | **Adventure** |\n",
    "| 2 | Visual Novel | **RPG** |\n",
    "| 3 | Tactical | Indie |\n",
    "| 4 | **RPG** | Shooter |\n",
    "| 5 | **Adventure** | Platform |"
   ]
  },
  {
   "cell_type": "code",
   "execution_count": null,
   "metadata": {},
   "outputs": [],
   "source": [
    "# {'criterion': 'entropy',\n",
    "#  'max_depth': None,\n",
    "#  'max_features': None,\n",
    "#  'min_samples_leaf': 0.1,\n",
    "#  'min_samples_split': 0.7,\n",
    "#  'n_estimators': 10,\n",
    "#  'random_state': 10}\n",
    "\n",
    "# forest_clf_bal = RandomForestClassifier()\n",
    "# forest_clf_grid_search_bal = GridSearchCV(forest_clf_bal, param_grid_2, return_train_score= True, cv= 3, scoring= 'accuracy')\n",
    "# forest_clf_grid_search_bal.fit(X_train_bal, y_train_bal)\n",
    "\n",
    "# {'criterion': 'entropy',\n",
    "#  'max_depth': 10,\n",
    "#  'max_features': 'sqrt',\n",
    "#  'min_samples_leaf': 1,\n",
    "#  'min_samples_split': 6,\n",
    "#  'n_estimators': 20,\n",
    "#  'random_state': 10}\n",
    "\n",
    "# forest_clf_bal_2 = RandomForestClassifier()\n",
    "# forest_clf_grid_search_bal_2 = GridSearchCV(forest_clf_bal, param_grid_2, return_train_score= True, cv= 3, scoring= 'accuracy')\n",
    "# forest_clf_grid_search_bal_2.fit(X_train_bal, y_train_bal)\n",
    "\n",
    "# forest_clf_bal = RandomForestClassifier()\n",
    "# forest_clf_grid_search_bal = GridSearchCV(forest_clf_bal, param_grid_2, return_train_score= True, cv= 3, scoring= 'f1')\n",
    "# forest_clf_grid_search_bal.fit(X_train_bal, y_train_bal)\n",
    "\n",
    "# forest_clf_bal_2 = RandomForestClassifier()\n",
    "# forest_clf_grid_search_bal_2 = GridSearchCV(forest_clf_bal_2, param_grid_2, return_train_score= True, cv= 3, scoring= 'f1')\n",
    "# forest_clf_grid_search_bal_2.fit(X_train_2_bal, y_train_2_bal)"
   ]
  }
 ],
 "metadata": {
  "kernelspec": {
   "display_name": "Python 3",
   "language": "python",
   "name": "python3"
  },
  "language_info": {
   "codemirror_mode": {
    "name": "ipython",
    "version": 3
   },
   "file_extension": ".py",
   "mimetype": "text/x-python",
   "name": "python",
   "nbconvert_exporter": "python",
   "pygments_lexer": "ipython3",
   "version": "3.8.5"
  }
 },
 "nbformat": 4,
 "nbformat_minor": 4
}
